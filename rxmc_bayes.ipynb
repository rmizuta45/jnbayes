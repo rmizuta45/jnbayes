{
 "cells": [
  {
   "cell_type": "markdown",
   "id": "3a2e572f",
   "metadata": {},
   "source": [
    "# RXMCによるfittingとBayes推定\n",
    "### 行われること\n",
    "+ RXMC\n",
    "+ RXMCの結果からBayes推定\n",
    " --> まずはここまで"
   ]
  },
  {
   "cell_type": "markdown",
   "id": "a482b9fe",
   "metadata": {},
   "source": [
    "### 00.事前準備\n",
    "+ ディレクトリの生成\n",
    "+ 自作含むライブラリの読み出し"
   ]
  },
  {
   "cell_type": "code",
   "execution_count": null,
   "id": "2e23fda9",
   "metadata": {},
   "outputs": [],
   "source": [
    "####### 操作設定 #######\n",
    "from jnbayes.libs.etc_sub import make_directory as mk_dir\n",
    "# 各種保存用ディレクトリ作成\n",
    "mk_dir(\"./dt/\")\n",
    "mk_dir(\"./dt/np/\")\n",
    "mk_dir(\"./dt/json/\")\n",
    "mk_dir(\"./pic/\")\n",
    "mk_dir(\"./bayes_log/\")\n",
    "\n"
   ]
  },
  {
   "cell_type": "markdown",
   "id": "aa5a8ba3",
   "metadata": {},
   "source": [
    "### 01.操作設定\n",
    "+ npyファイルの生成、保存"
   ]
  },
  {
   "cell_type": "code",
   "execution_count": null,
   "id": "5e240f17",
   "metadata": {},
   "outputs": [],
   "source": [
    "import numpy as np\n",
    "import matplotlib.pyplot as plt\n",
    "\n",
    "%matplotlib inline\n",
    "\n",
    "n = 100\n",
    "sigma_R = 0.5#ノイズの標準偏差\n",
    "x = np.arange(n)/10\n",
    "a = 1.9\n",
    "b = 5.5\n",
    "\n",
    "y = a*x + b + np.random.normal(loc=0, scale=sigma_R,size=n)\n",
    "\n",
    "\n",
    "data = [x,y]\n",
    "plt.scatter(x,y)\n",
    "plt.show()\n",
    "np.save(\"dt/test/liner.npy\",data)\n"
   ]
  }
 ],
 "metadata": {
  "kernelspec": {
   "display_name": "Python 3.9.7 64-bit",
   "language": "python",
   "name": "python3"
  },
  "language_info": {
   "codemirror_mode": {
    "name": "ipython",
    "version": 3
   },
   "file_extension": ".py",
   "mimetype": "text/x-python",
   "name": "python",
   "nbconvert_exporter": "python",
   "pygments_lexer": "ipython3",
   "version": "3.9.7"
  },
  "vscode": {
   "interpreter": {
    "hash": "0faf606af75163f9797378b8be14d621397fff86714dce366fa864b93505b804"
   }
  }
 },
 "nbformat": 4,
 "nbformat_minor": 5
}
