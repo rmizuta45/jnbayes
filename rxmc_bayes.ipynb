{
 "cells": [
  {
   "cell_type": "code",
   "execution_count": 1,
   "id": "5e240f17",
   "metadata": {},
   "outputs": [
    {
     "name": "stdout",
     "output_type": "stream",
     "text": [
      "hw\n",
      "test.py called\n"
     ]
    }
   ],
   "source": [
    "print(\"hw\")\n",
    "\n",
    "\n",
    "import  test\n",
    "\n",
    "\n"
   ]
  }
 ],
 "metadata": {
  "kernelspec": {
   "display_name": "Python 3.9.7 64-bit",
   "language": "python",
   "name": "python3"
  },
  "language_info": {
   "codemirror_mode": {
    "name": "ipython",
    "version": 3
   },
   "file_extension": ".py",
   "mimetype": "text/x-python",
   "name": "python",
   "nbconvert_exporter": "python",
   "pygments_lexer": "ipython3",
   "version": "3.9.7"
  },
  "vscode": {
   "interpreter": {
    "hash": "0faf606af75163f9797378b8be14d621397fff86714dce366fa864b93505b804"
   }
  }
 },
 "nbformat": 4,
 "nbformat_minor": 5
}
