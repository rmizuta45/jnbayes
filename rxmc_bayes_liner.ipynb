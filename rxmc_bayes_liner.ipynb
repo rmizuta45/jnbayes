{
 "cells": [
  {
   "cell_type": "markdown",
   "id": "3a2e572f",
   "metadata": {},
   "source": [
    "# RXMCによる[y=ax+b]のfittingとBayes推定\n",
    "### 行うこと\n",
    "+ RXMC\n",
    "+ RXMCの結果からBayes推定(事後確率分布の生成)\n",
    " --> まずはここまで"
   ]
  },
  {
   "cell_type": "markdown",
   "id": "a482b9fe",
   "metadata": {},
   "source": [
    "### 00.事前準備\n",
    "+ 現在位置の確認\n",
    "+ ディレクトリの生成\n"
   ]
  },
  {
   "cell_type": "code",
   "execution_count": 1,
   "id": "2e23fda9",
   "metadata": {},
   "outputs": [
    {
     "name": "stdout",
     "output_type": "stream",
     "text": [
      "read __init__.py(libs)\n",
      "###### start programs ######\n",
      "NOW CWD is c:\\Users\\rmizuta\\Desktop\\jnbayes\n",
      "######### make dirs #########\n",
      "./dt/ exist!\n",
      "./dt/np/ exist!\n",
      "./dt/json/ exist!\n",
      "./pic/ exist!\n",
      "./bayes_log/ exist!\n"
     ]
    }
   ],
   "source": [
    "####### 操作設定 #######\n",
    "import os\n",
    "from jnbayes.libs.etc_sub import make_directory as mk_dir\n",
    "print(\"###### start programs ######\")\n",
    "print(\"NOW CWD is\", os.getcwd())\n",
    "\n",
    "# 各種保存用ディレクトリ作成\n",
    "print(\"######### make dirs #########\")\n",
    "mk_dir(\"./dt/\")\n",
    "mk_dir(\"./dt/np/\")\n",
    "mk_dir(\"./dt/json/\")\n",
    "mk_dir(\"./pic/\")\n",
    "mk_dir(\"./bayes_log/\")\n",
    "\n",
    "\n"
   ]
  },
  {
   "cell_type": "markdown",
   "id": "aa5a8ba3",
   "metadata": {},
   "source": [
    "### 01.データ生成\n",
    "+ npyファイルの生成、保存"
   ]
  },
  {
   "cell_type": "code",
   "execution_count": 2,
   "id": "5e240f17",
   "metadata": {},
   "outputs": [
    {
     "data": {
      "image/png": "[encoded data removed]",
      "text/plain": [
       "<Figure size 432x288 with 1 Axes>"
      ]
     },
     "metadata": {
      "needs_background": "light"
     },
     "output_type": "display_data"
    }
   ],
   "source": [
    "import numpy as np\n",
    "import matplotlib.pyplot as plt\n",
    "\n",
    "%matplotlib inline\n",
    "\n",
    "n = 100\n",
    "sigma_R = 0.5#ノイズの標準偏差\n",
    "x = np.arange(n)/10\n",
    "a = 1.9\n",
    "b = 5.5\n",
    "\n",
    "y = a*x + b + np.random.normal(loc=0, scale=sigma_R,size=n)\n",
    "\n",
    "\n",
    "data = [x,y]\n",
    "plt.scatter(x,y)\n",
    "plt.show()\n",
    "np.save(\"dt/np/liner.npy\",data)\n",
    "plt.close()\n"
   ]
  },
  {
   "cell_type": "markdown",
   "id": "9af5cbe7",
   "metadata": {},
   "source": [
    "### 02.パラメータ設定\n",
    "+ ファイルパスやRXMCのループ数などの設定\n",
    "+ ハイパーパラメータの設定"
   ]
  },
  {
   "cell_type": "code",
   "execution_count": 3,
   "id": "fbeff524",
   "metadata": {},
   "outputs": [
    {
     "name": "stdout",
     "output_type": "stream",
     "text": [
      "bayes_log/liner/ exist!\n"
     ]
    },
    {
     "data": {
      "image/png": "[encoded data removed]",
      "text/plain": [
       "<Figure size 432x288 with 1 Axes>"
      ]
     },
     "metadata": {
      "needs_background": "light"
     },
     "output_type": "display_data"
    }
   ],
   "source": [
    "from jnbayes.libs.rxmc_cls import Rxmc_ctrl\n",
    "from jnbayes.libs.etc_sub import read_xy_slice_data\n",
    "import json\n",
    "\n",
    "liner_json_path = \"./dt/json/liner_test.json\"\n",
    "\n",
    "liner_json = {\n",
    "    \"dpar\": {\n",
    "        \"model_name\":\"ax1b\",        # モデル名\n",
    "        \"dt_file\": \"dt/np/\",        # 元データのパス\n",
    "        \"log_file\": \"bayes_log/\",   # おまじない、bayesのログ保管パス\n",
    "        \"pic_file\": \"pic/\",         # おまじない、画像出力パス\n",
    "        \"dt_name\": \"liner\",         # データ名(拡張子なし)\n",
    "        \"dt_extension\": \".npy\",     # データ拡張子\n",
    "        \"log_par_rxmc_loops\": 1000, # おまじない、RXMCログ保存数\n",
    "        \"bayes_Efree_par_rxmc_loops\": 1000 #おまじない、bayes自由エネルギー抽出数\n",
    "},\n",
    "    \"rpar\": {\n",
    "        \"cycle\": 5000,              # RXMCサイクル数\n",
    "        \"num_temp\": 70,             # レプリカ数\n",
    "        \"proportion\": 1.3,          # 逆温度等比級数\n",
    "        \"burn_in_length\": 1000      # 焼きなまし回数\n",
    "    },\n",
    "    \"fpar\": {\n",
    "        \"convolve\":{\"TF\":False},    # おまじない、特殊fitting用\n",
    "        \"xlim\":[None,None],         # おまじない、fittingのデータ点を切れる\n",
    "        \"noise\": {\n",
    "            \"sigmaR\": 0.25,         # 推定ノイズ、大体半分の値を入力\n",
    "            \"sigmaE\": 1.0           # おまじない、使わない\n",
    "        },\n",
    "        \"BG\": {\n",
    "            \"model\": \"nothing\"      # BGの値、\n",
    "        },\n",
    "        \"peak\": {\n",
    "            \"01\": {                 # 第一関数セット、複数セットができる\n",
    "                \"model\": \"liner\",   # 関数名、\n",
    "                \"par\": {\n",
    "                    \"init\": [\n",
    "                        2,          # aの初期値\n",
    "                        5.4         # bの初期値\n",
    "                    ]\n",
    "                },\n",
    "                \"hyper\": {\n",
    "                    \"step\": [\n",
    "                        7,          # aのC値\n",
    "                        7           # bのC値\n",
    "                    ],\n",
    "                    \"alpha\": [\n",
    "                        40000.0,    # aのα値\n",
    "                        1000.0      # bのα値\n",
    "                    ],\n",
    "                    \"dd\": [\n",
    "                        0.5,        # aのd値\n",
    "                        0.5         # bのd値\n",
    "                    ]\n",
    "                },\n",
    "                \"limit\": {\n",
    "                    \"rng_min\": [\n",
    "                        0,          # aの推定最小値\n",
    "                        0           # bの推定最小値\n",
    "                    ],\n",
    "                    \"rng_max\": [\n",
    "                        10,         # aの推定最大値\n",
    "                        10          # bの推定最大値\n",
    "                    ]\n",
    "                }\n",
    "            }\n",
    "        }\n",
    "    }\n",
    "}\n",
    "\n",
    "with open(liner_json_path,\"w\") as fout:\n",
    "    json.dump(liner_json, fout, indent=4)\n",
    "\n",
    "\n",
    "#### 上で書いたjsonを専用のクラスで読み込み\n",
    "rx_cls = Rxmc_ctrl(liner_json_path)\n",
    "\n",
    "### XYデータ(npyファイル)を読み込み、クラスに登録\n",
    "read_xy_slice_data(rx_cls, check=False)\n",
    "\n",
    "### RXMCのログ保存ディレクトリを作成\n",
    "mk_dir(rx_cls.log_dt_name)\n",
    "\n",
    "### クラスにXYデータが登録できたか確認\n",
    "plt.scatter(rx_cls.X,rx_cls.Y)\n",
    "plt.show()\n",
    "plt.close()\n"
   ]
  },
  {
   "cell_type": "markdown",
   "id": "34eee703",
   "metadata": {},
   "source": [
    "### 03.RXMC事前準備(rxmc_run.py->run_rxmc()前半)\n",
    "+ RXMCのパラメータを読み込む\n",
    "+ 初期値を代入、E(最小二乗誤差)の計算\n",
    "+ レプリカの作成"
   ]
  },
  {
   "cell_type": "code",
   "execution_count": 4,
   "id": "561e9f10",
   "metadata": {},
   "outputs": [],
   "source": [
    "from jnbayes.libs.rxmc_sub import get_fitting_container\n",
    "from jnbayes.libs.rxmc_sub import get_Y\n",
    "from jnbayes.libs.rxmc_sub import get_Energy\n",
    "\n",
    "\n",
    "######## read raw data\n",
    "X = rx_cls.X\n",
    "Y = rx_cls.Y\n",
    "\n",
    "######## deploy param to meaningful parameters\n",
    "dir_dict = rx_cls.df[\"dpar\"]\n",
    "func_dict = rx_cls.df[\"fpar\"]\n",
    "run_dict = rx_cls.df[\"rpar\"]\n",
    "\n",
    "######## read dict\n",
    "_p_init_ = rx_cls.get_param(\"par\",\"init\")\n",
    "_step_ = rx_cls.get_param(\"hyper\",\"step\")\n",
    "_alpha_ = rx_cls.get_param(\"hyper\",\"alpha\")\n",
    "_d_ = rx_cls.get_param(\"hyper\",\"dd\")\n",
    "_p_min_ = rx_cls.get_param(\"limit\",\"rng_min\") \n",
    "_p_max_ = rx_cls.get_param(\"limit\",\"rng_max\")\n",
    "log_length = rx_cls.df[\"dpar\"][\"log_par_rxmc_loops\"]\n",
    "cycle = run_dict[\"cycle\"]\n",
    "num_temp = run_dict[\"num_temp\"]\n",
    "sigmaE = func_dict[\"noise\"][\"sigmaE\"]    \n",
    "X_slice = rx_cls.xslice\n",
    "######## get fitting container\n",
    "fit_cont, BG_cont = get_fitting_container(func_dict)\n",
    "\n",
    "\n",
    "######## calc dict\n",
    "data_len = len(X)\n",
    "par_num = len(_p_init_)\n",
    "_p_min_tl_ = np.tile(_p_min_,(num_temp,1))\n",
    "_p_max_tl_ = np.tile(_p_max_,(num_temp,1))\n",
    "dt_log_name = rx_cls.logfile_header\n",
    "if func_dict[\"convolve\"][\"TF\"]:\n",
    "    conv_TF = True\n",
    "else:\n",
    "    conv_TF = False\n",
    "\n",
    "######## calc first ones\n",
    "Yraw = Y.reshape(1,-1)\n",
    "_p_now_ = np.tile(_p_init_,(num_temp,1))\n",
    "\n",
    "Ytmp = get_Y(X,_p_now_,fit_cont, BG_cont, conv_TF)\n",
    "\n",
    "_E_now_ = get_Energy(Yraw,Ytmp,data_len,sigmaE,X_slice)\n",
    "\n",
    "######## cleate temp\n",
    "temp, _stepsize_p_ = rx_cls.get_temp_step(par_num,_step_,_alpha_,_d_)\n",
    "\n",
    "\n",
    "######## define for RXMC\n",
    "p0_log = np.zeros((num_temp,par_num,log_length),dtype=np.int32)\n",
    "E0_log = np.zeros((num_temp,log_length),dtype=np.int32)\n",
    "_p_log_ = 1.0*p0_log\n",
    "_E_log_ = 1.0*E0_log\n",
    "_ratio_p_log_ = 0*p0_log\n",
    "_ratio_exc_rep_log_ = 0*E0_log"
   ]
  },
  {
   "cell_type": "markdown",
   "id": "0517e255",
   "metadata": {},
   "source": [
    "### 04.結果の表示(03の)\n",
    "+ 逆温度の範囲のプロット\n",
    "+ stepsizeと逆温度のプロット"
   ]
  },
  {
   "cell_type": "code",
   "execution_count": 6,
   "id": "0dbb595b",
   "metadata": {},
   "outputs": [
    {
     "data": {
      "image/png": "[encoded data removed]",
      "text/plain": [
       "<Figure size 432x288 with 1 Axes>"
      ]
     },
     "metadata": {
      "needs_background": "light"
     },
     "output_type": "display_data"
    },
    {
     "data": {
      "image/png": "[encoded data removed]",
      "text/plain": [
       "<Figure size 432x288 with 1 Axes>"
      ]
     },
     "metadata": {
      "needs_background": "light"
     },
     "output_type": "display_data"
    },
    {
     "data": {
      "image/png": "[encoded data removed]",
      "text/plain": [
       "<Figure size 432x288 with 1 Axes>"
      ]
     },
     "metadata": {
      "needs_background": "light"
     },
     "output_type": "display_data"
    }
   ],
   "source": [
    "### 逆温度のプロット\n",
    "temp_range = np.array(range(len(temp)))\n",
    "plt.plot(temp_range,temp)\n",
    "plt.scatter(temp_range,temp,s=3)\n",
    "plt.xlabel(\"number\")\n",
    "plt.ylabel(\"reverse temperature\")\n",
    "plt.yscale(\"log\")\n",
    "plt.title(\"reverse temperature\")\n",
    "plt.show()\n",
    "plt.close()\n",
    "\n",
    "\n",
    "### stepsizeと逆温度のプロット\n",
    "for ipar in range(len(_stepsize_p_[0])):\n",
    "    plt.plot(temp[1:-1],_stepsize_p_[1:-1,ipar])\n",
    "    plt.scatter(temp[1:-1],_stepsize_p_[1:-1,ipar],s=3)\n",
    "    plt.xlabel(\"temp\")\n",
    "    plt.ylabel(\"stepsize\")\n",
    "    plt.xscale(\"log\")\n",
    "    plt.yscale(\"log\")\n",
    "    plt.title(f\"param {ipar} stepsize\")\n",
    "    plt.show()\n",
    "    plt.close()\n"
   ]
  },
  {
   "cell_type": "markdown",
   "id": "d3c93b09",
   "metadata": {},
   "source": [
    "### 05. RXMC開始(rxmc_run.py->run_rxmc()後半)\n",
    "+ RXMC\n",
    "+ ログファイルの記入\n"
   ]
  },
  {
   "cell_type": "code",
   "execution_count": 8,
   "id": "b8c87949",
   "metadata": {},
   "outputs": [
    {
     "name": "stdout",
     "output_type": "stream",
     "text": [
      "cycle = 5000\n",
      "event loop = ax1b 0 93739.4Hz\n",
      "event loop = ax1b 100 2041.0Hz\n",
      "event loop = ax1b 200 2176.2Hz\n",
      "event loop = ax1b 300 2223.3Hz\n",
      "event loop = ax1b 400 2272.4Hz\n",
      "event loop = ax1b 500 2224.4Hz\n",
      "event loop = ax1b 600 2175.0Hz\n",
      "event loop = ax1b 700 2119.4Hz\n",
      "event loop = ax1b 800 2324.5Hz\n",
      "event loop = ax1b 900 2164.4Hz\n",
      "saved log par 1000 events\n",
      "event loop = ax1b 1000 1082.9Hz\n",
      "event loop = ax1b 1100 2221.7Hz\n",
      "event loop = ax1b 1200 2188.2Hz\n",
      "event loop = ax1b 1300 2209.9Hz\n",
      "event loop = ax1b 1400 2220.2Hz\n",
      "event loop = ax1b 1500 2104.6Hz\n",
      "event loop = ax1b 1600 2128.7Hz\n",
      "event loop = ax1b 1700 2129.9Hz\n",
      "event loop = ax1b 1800 2221.7Hz\n",
      "event loop = ax1b 1900 2223.6Hz\n",
      "saved log par 1000 events\n",
      "event loop = ax1b 2000 1273.9Hz\n",
      "event loop = ax1b 2100 2084.6Hz\n",
      "event loop = ax1b 2200 2223.4Hz\n",
      "event loop = ax1b 2300 2179.5Hz\n",
      "event loop = ax1b 2400 2273.2Hz\n",
      "event loop = ax1b 2500 2095.7Hz\n",
      "event loop = ax1b 2600 2167.0Hz\n",
      "event loop = ax1b 2700 2170.6Hz\n",
      "event loop = ax1b 2800 2224.9Hz\n",
      "event loop = ax1b 2900 2291.8Hz\n",
      "saved log par 1000 events\n",
      "event loop = ax1b 3000 1263.2Hz\n",
      "event loop = ax1b 3100 2175.2Hz\n",
      "event loop = ax1b 3200 1888.1Hz\n",
      "event loop = ax1b 3300 2122.4Hz\n",
      "event loop = ax1b 3400 2174.0Hz\n",
      "event loop = ax1b 3500 2129.9Hz\n",
      "event loop = ax1b 3600 2223.3Hz\n",
      "event loop = ax1b 3700 2157.3Hz\n",
      "event loop = ax1b 3800 2241.9Hz\n",
      "event loop = ax1b 3900 1982.7Hz\n",
      "saved log par 1000 events\n",
      "event loop = ax1b 4000 1252.1Hz\n",
      "event loop = ax1b 4100 2153.0Hz\n",
      "event loop = ax1b 4200 2121.4Hz\n",
      "event loop = ax1b 4300 2273.6Hz\n",
      "event loop = ax1b 4400 2084.5Hz\n",
      "event loop = ax1b 4500 2077.6Hz\n",
      "event loop = ax1b 4600 2127.9Hz\n",
      "event loop = ax1b 4700 2211.0Hz\n",
      "event loop = ax1b 4800 2258.3Hz\n",
      "event loop = ax1b 4900 2303.9Hz\n",
      "saved log par 1000 events\n",
      "event loop = ax1b F!!!!\n"
     ]
    }
   ],
   "source": [
    "import time\n",
    "import gc\n",
    "from jnbayes.libs.rxmc_sub import update_param\n",
    "from jnbayes.libs.rxmc_sub import exc_replica\n",
    "from jnbayes.libs.rxmc_sub import renew_E_log\n",
    "from jnbayes.libs.rxmc_sub import renew_p_log\n",
    "\n",
    "\n",
    "tm_start = time.time()\n",
    "\n",
    "\n",
    "\n",
    "######## event loop <----- MOST IMPORTANT!!!\n",
    "print(\"cycle =\",cycle)\n",
    "for icycl in range(cycle):\n",
    "    \n",
    "    ########## print progress of RXMC\n",
    "    if icycl%100==0:\n",
    "        tm_stop = time.time()\n",
    "        time_str = str(round(100/(tm_stop-tm_start+(10e-5)),1)) + \"Hz\"\n",
    "        print(\"event loop =\",rx_cls.model_name, icycl,time_str)\n",
    "        tm_start = tm_stop\n",
    "    log_mod_cycl = icycl%log_length\n",
    "\n",
    "    ########## update all parameters\n",
    "    _p_now_, _E_now_ = update_param(icycl,log_length,_E_now_,data_len,sigmaE,X,Yraw,\n",
    "                    _p_now_,_stepsize_p_,_ratio_p_log_,num_temp,\n",
    "                    _p_min_tl_,_p_max_tl_,temp,fit_cont, BG_cont,X_slice,conv_TF)\n",
    "    _p_log_[:,:,log_mod_cycl] = _p_now_\n",
    "\n",
    "    ########## exchange replica\n",
    "    exc_replica(icycl,_p_now_,_E_now_,temp,data_len,num_temp,log_mod_cycl,_ratio_exc_rep_log_)\n",
    "    _E_log_[:,log_mod_cycl] = _E_now_\n",
    "\n",
    "    ######## save log pars\n",
    "    if (icycl+1)%log_length == 0:\n",
    "        loop_num_str = str(int((icycl+1)/log_length)).zfill(3)\n",
    "        tmp_arg = [num_temp,par_num,log_length]\n",
    "        _p_log_ = renew_p_log(dt_log_name,loop_num_str,\"_p_log_\",_p_log_,tmp_arg)\n",
    "        _E_log_ = renew_E_log(dt_log_name,loop_num_str,\"_E_log_\",_E_log_,tmp_arg)\n",
    "        _ratio_p_log_ = renew_p_log(dt_log_name,loop_num_str,\"_ratio_p_log_\",_ratio_p_log_,tmp_arg)\n",
    "        _ratio_exc_rep_log_ = renew_E_log(dt_log_name,loop_num_str,\"_ratio_exc_rep_log_\",_ratio_exc_rep_log_,tmp_arg)\n",
    "        print(\"saved log par\",log_length,\"events\")\n",
    "        gc.collect() #### Garbage Collector cleans memory\n",
    "print(\"event loop =\",rx_cls.model_name,\"F!!!!\")"
   ]
  },
  {
   "cell_type": "markdown",
   "id": "93841c5a",
   "metadata": {},
   "source": [
    "### 結果の表示(05の)\n",
    "+ 全レプリカの全パラメータのログ\n",
    "+ 全レプリカの最小二乗誤差のログ\n",
    "+ パラメータ採択率 vs 逆温度\n",
    "+ レプリカ交換率 vs 逆温度\n"
   ]
  },
  {
   "cell_type": "code",
   "execution_count": null,
   "id": "edb2c3d0",
   "metadata": {},
   "outputs": [],
   "source": [
    "import glob\n",
    "\n",
    "burn_in_length = run_dict[\"burn_in_length\"]\n",
    "logfile_header = rx_cls.logfile_header\n",
    "\n",
    "#### パラメータログの描画関数\n",
    "def plt_p_log(tmp_log,pic_name,par_num):\n",
    "    np_nums = np.arange(len(tmp_log))\n",
    "    plt.figure(figsize=(15,5))\n",
    "    plt.title(pic_name)\n",
    "    plt.subplot(1,2,1)\n",
    "    plt.scatter(np_nums,tmp_log)\n",
    "    plt.ylabel(f\"par{par_num}\")\n",
    "    plt.xlabel(\"Iteration number\")\n",
    "    plt.subplot(1,2,2)\n",
    "    plt.hist(tmp_log,bins=40)\n",
    "    plt.xlabel(f\"par{par_num}\")\n",
    "    plt.ylabel(\"Cnt\")\n",
    "    plt.show()\n",
    "    plt.close()\n",
    "\n",
    "\n",
    "##### 全レプリカの全パラメータのログ\n",
    "p_log_files = glob.glob(logfile_header+\"_p_log_*.npy\") # globでファイルサーチ\n",
    "p_log_files = sorted(p_log_files)\n",
    "p_log = np.empty((num_temp,par_num,0))\n",
    "for i in range(len(p_log_files)):\n",
    "    tfile = p_log_files[i]\n",
    "    np_tmp = np.load(tfile,allow_pickle=True)\n",
    "    p_log = np.append(p_log,np_tmp,axis=2)\n",
    "for irep in range(num_temp):\n",
    "    for ipar in range(par_num):\n",
    "        tmp_p_log = p_log[irep][ipar][burn_in_length:]\n",
    "        pic_name = f\"par{ipar}, rep{irep}\"\n",
    "        plt_p_log(tmp_p_log,pic_name,ipar)\n",
    "del p_log\n",
    "gc.collect()\n",
    "\n",
    "\n",
    "\n",
    "#### エネルギーログの描画関数\n",
    "def plt_E_log(tmp_log,pic_name):\n",
    "    np_nums = np.arange(len(tmp_log))\n",
    "    plt.figure(figsize=(15,5))\n",
    "    plt.title(pic_name)\n",
    "    plt.subplot(1,2,1)\n",
    "    plt.scatter(np_nums,tmp_log)\n",
    "    plt.ylabel(\"E\")\n",
    "    plt.xlabel(\"Iteration number\")\n",
    "    plt.subplot(1,2,2)\n",
    "    plt.hist(tmp_log,bins=40)\n",
    "    # plt.yscale(\"log\")\n",
    "    plt.xlabel(\"E\")\n",
    "    plt.ylabel(\"Cnt\")    \n",
    "\n",
    "\n",
    "\n",
    "##### 全レプリカのエネルギーのログ\n",
    "E_log_files = glob.glob(logfile_header+\"_E_log_*.npy\")\n",
    "E_log_files = sorted(E_log_files)\n",
    "E_log = np.empty((num_temp,0))\n",
    "for ifile in range(len(E_log_files)):\n",
    "    tfile = E_log_files[ifile]\n",
    "    tmp = np.load(tfile,allow_pickle=True)\n",
    "    E_log = np.append(E_log,tmp,axis=1)\n",
    "for irep in range(num_temp):\n",
    "    pic_name = f\"rep{irep}\"\n",
    "    \n",
    "    tmp_E_log = E_log[irep][burn_in_length:]\n",
    "del E_log\n",
    "gc.collect()\n",
    "\n",
    "\n",
    "\n",
    "\n",
    "\n",
    "\n",
    "\n",
    "\n",
    "\n"
   ]
  }
 ],
 "metadata": {
  "kernelspec": {
   "display_name": "Python 3.9.7 64-bit",
   "language": "python",
   "name": "python3"
  },
  "language_info": {
   "codemirror_mode": {
    "name": "ipython",
    "version": 3
   },
   "file_extension": ".py",
   "mimetype": "text/x-python",
   "name": "python",
   "nbconvert_exporter": "python",
   "pygments_lexer": "ipython3",
   "version": "3.9.7"
  },
  "vscode": {
   "interpreter": {
    "hash": "0faf606af75163f9797378b8be14d621397fff86714dce366fa864b93505b804"
   }
  }
 },
 "nbformat": 4,
 "nbformat_minor": 5
}
