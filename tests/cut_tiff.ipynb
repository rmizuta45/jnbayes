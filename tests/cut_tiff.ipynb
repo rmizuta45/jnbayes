{
 "cells": [
  {
   "cell_type": "code",
   "execution_count": null,
   "metadata": {},
   "outputs": [],
   "source": []
  }
 ],
 "metadata": {
  "kernelspec": {
   "display_name": "Python 3.9.7 64-bit",
   "language": "python",
   "name": "python3"
  },
  "language_info": {
   "name": "python",
   "version": "3.9.7"
  },
  "orig_nbformat": 4,
  "vscode": {
   "interpreter": {
    "hash": "0faf606af75163f9797378b8be14d621397fff86714dce366fa864b93505b804"
   }
  }
 },
 "nbformat": 4,
 "nbformat_minor": 2
}
